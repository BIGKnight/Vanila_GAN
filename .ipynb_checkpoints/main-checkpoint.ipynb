{
 "cells": [
  {
   "cell_type": "code",
   "execution_count": 1,
   "metadata": {},
   "outputs": [],
   "source": [
    "import torch\n",
    "assert torch.cuda.is_available()\n",
    "cuda_device = torch.device(\"cuda:0\")\n",
    "torch.cuda.set_device(cuda_device)\n",
    "\n",
    "args = {}\n",
    "args['lr'] = 1e-3\n",
    "args['b_s'] = 32\n",
    "args['z_dim'] = 100\n",
    "args['epoch'] = 1000"
   ]
  },
  {
   "cell_type": "code",
   "execution_count": 2,
   "metadata": {},
   "outputs": [],
   "source": [
    "import torchvision.datasets as ds\n",
    "from torchvision import transforms\n",
    "train_data = ds.MNIST('/home/yuhong_zhong/sdb2/wangyezhen/datasets/', train=True, transform=transforms.Compose([\n",
    "                       transforms.ToTensor(),\n",
    "                       transforms.Normalize((0.1307,), (0.3081,))]))\n",
    "test_data = ds.MNIST('/home/yuhong_zhong/sdb2/wangyezhen/datasets/', train=False, transform=transforms.Compose([\n",
    "                       transforms.ToTensor(),\n",
    "                       transforms.Normalize((0.1307,), (0.3081,))]))\n",
    "train_loader = torch.utils.data.DataLoader(train_data, batch_size=args['b_s'], shuffle=True)\n",
    "test_loader = torch.utils.data.DataLoader(test_data, batch_size=args['b_s'], shuffle=True)"
   ]
  },
  {
   "cell_type": "code",
   "execution_count": 3,
   "metadata": {},
   "outputs": [],
   "source": [
    "from Discriminator import Discriminator\n",
    "from Generator import Generator\n",
    "Criterion = torch.nn.BCELoss().to(cuda_device)\n",
    "D_real_label = torch.ones(args['b_s'], 1, dtype=torch.float32).to(cuda_device)\n",
    "D_fake_label = torch.zeros(args['b_s'], 1, dtype=torch.float32).to(cuda_device)\n",
    "D = Discriminator(28 * 28).to(cuda_device)\n",
    "G = Generator(args['z_dim']).to(cuda_device)\n",
    "D_optimizer = torch.optim.Adam(D.parameters(), lr=args['lr'])\n",
    "G_optimizer = torch.optim.Adam(G.parameters(), lr=args['lr'])"
   ]
  },
  {
   "cell_type": "code",
   "execution_count": null,
   "metadata": {},
   "outputs": [
    {
     "data": {
      "image/png": "[encoded data removed]",
      "text/plain": [
       "<Figure size 1080x288 with 4 Axes>"
      ]
     },
     "metadata": {
      "needs_background": "light"
     },
     "output_type": "display_data"
    }
   ],
   "source": [
    "from PIL import Image\n",
    "import matplotlib.pyplot as plt\n",
    "%matplotlib inline\n",
    "step = 0\n",
    "for i in range(args['epoch']):\n",
    "    for train_img, gt in train_loader:\n",
    "        \n",
    "        # eval\n",
    "        if step % 20000 == 0:\n",
    "            z_prior = torch.randn(4, args['z_dim'], dtype=torch.float32).to(cuda_device)\n",
    "            g_z = G(z_prior)\n",
    "            samples = torch.squeeze(g_z).view(4, 28, 28).data.cpu().numpy()\n",
    "            fig, (fig_0, fig_1, fig_2, fig_3) = plt.subplots(1, 4, figsize=(15, 4))\n",
    "            fig_0.imshow(samples[0], cmap='Greys_r')\n",
    "            fig_1.imshow(samples[1], cmap='Greys_r')\n",
    "            fig_2.imshow(samples[2], cmap='Greys_r')\n",
    "            fig_3.imshow(samples[3], cmap='Greys_r')\n",
    "            plt.axis('off')\n",
    "            plt.show()\n",
    "            plt.close(fig)\n",
    "        \n",
    "        # update discriminator\n",
    "        train_img = train_img.to(cuda_device)\n",
    "        z_prior = torch.randn(args['b_s'], args['z_dim'], dtype=torch.float32).to(cuda_device)\n",
    "\n",
    "        g_z = G(z_prior)\n",
    "        d_real = D(train_img.view(args['b_s'], 28 * 28))\n",
    "        d_fake = D(g_z)\n",
    "\n",
    "        D_optimizer.zero_grad()\n",
    "        d_real_loss = Criterion(d_real, D_real_label)\n",
    "        d_fake_loss = Criterion(d_fake, D_fake_label)\n",
    "        d_loss =  d_real_loss + d_fake_loss\n",
    "        d_loss.backward()\n",
    "        D_optimizer.step()\n",
    "\n",
    "        # update generator\n",
    "        z_prior = torch.randn(args['b_s'], args['z_dim'], dtype=torch.float32).to(cuda_device)\n",
    "        g_z = G(z_prior)\n",
    "        d_fake = D(g_z)\n",
    "\n",
    "        G_optimizer.zero_grad()\n",
    "        g_loss = Criterion(d_fake, D_real_label)\n",
    "        g_loss.backward()\n",
    "        G_optimizer.step()\n",
    "        step += 1"
   ]
  }
 ],
 "metadata": {
  "kernelspec": {
   "display_name": "pytorch_env",
   "language": "python",
   "name": "python3"
  },
  "language_info": {
   "codemirror_mode": {
    "name": "ipython",
    "version": 3
   },
   "file_extension": ".py",
   "mimetype": "text/x-python",
   "name": "python",
   "nbconvert_exporter": "python",
   "pygments_lexer": "ipython3",
   "version": "3.6.8"
  }
 },
 "nbformat": 4,
 "nbformat_minor": 2
}
